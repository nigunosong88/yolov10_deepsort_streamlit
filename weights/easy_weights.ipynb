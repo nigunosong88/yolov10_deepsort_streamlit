{
 "cells": [
  {
   "cell_type": "code",
   "execution_count": 6,
   "metadata": {},
   "outputs": [
    {
     "name": "stdout",
     "output_type": "stream",
     "text": [
      "當前工作目錄: c:\\Users\\USER\\Desktop\\LAO\\Image_Recognition\\yolov10\\weights\n"
     ]
    }
   ],
   "source": [
    "import os\n",
    "\n",
    "# 獲取當前工作目錄\n",
    "current_directory = os.getcwd()\n",
    "\n",
    "print(\"當前工作目錄:\", current_directory)"
   ]
  },
  {
   "cell_type": "code",
   "execution_count": 21,
   "metadata": {},
   "outputs": [],
   "source": [
    "import urllib.request\n",
    "def A(file,name):\n",
    "    url = file\n",
    "    filename = name\n",
    "    urllib.request.urlretrieve(url, filename)"
   ]
  },
  {
   "cell_type": "code",
   "execution_count": 23,
   "metadata": {},
   "outputs": [],
   "source": [
    "A('https://github.com/THU-MIG/yolov10/releases/download/v1.1/yolov10n.pt',\"yolov10n.pt\")\n",
    "A('https://github.com/THU-MIG/yolov10/releases/download/v1.1/yolov10s.pt',\"yolov10s.pt\")\n",
    "A('https://github.com/THU-MIG/yolov10/releases/download/v1.1/yolov10b.pt',\"yolov10b.pt\")\n",
    "A('https://github.com/THU-MIG/yolov10/releases/download/v1.1/yolov10x.pt',\"yolov10x.pt\")\n",
    "A('https://github.com/THU-MIG/yolov10/releases/download/v1.1/yolov10l.pt',\"yolov10l.pt\")"
   ]
  }
 ],
 "metadata": {
  "kernelspec": {
   "display_name": "yoloworld",
   "language": "python",
   "name": "python3"
  },
  "language_info": {
   "codemirror_mode": {
    "name": "ipython",
    "version": 3
   },
   "file_extension": ".py",
   "mimetype": "text/x-python",
   "name": "python",
   "nbconvert_exporter": "python",
   "pygments_lexer": "ipython3",
   "version": "3.8.19"
  }
 },
 "nbformat": 4,
 "nbformat_minor": 2
}
